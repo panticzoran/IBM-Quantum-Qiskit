import numpy as np
import qiskit

# Importing standard Qiskit libraries
from qiskit import QuantumCircuit, transpile, Aer, IBMQ, execute
from qiskit.tools.jupyter import *
from qiskit.visualization import *
from ibm_quantum_widgets import *
from qiskit.providers.aer import QasmSimulator

# Loading your IBM Quantum account(s)
provider = IBMQ.load_account()

# Creating a quantum circuit with a single qubit and single classical bit, with default initial state of upspin
quantumCircuit = QuantumCircuit(1,1)

# Applying Hadamard gate on the qubit
quantumCircuit.h(0)

# Specifying the qubit and the classical bit (classical bit is used for measurement; Qiskit is saving the state of the quibit in the classical bit
# We are measuring the qubit that is in superposition state
quantumCircuit.measure(0,0)
# Classical bit register is used to store the outcome of the qubit

# Draw the circuit
quantumCircuit.draw()

# backend execution
backEnd = Aer.get_backend('statevector_simulator')
# circuit execution
outPut = execute(quantumCircuit,backEnd).result().get_statevector()
# plot the Bloch spehere visualised result
plot_bloch_multivector(outPut)

# Get result as normal result
resultNormal = execute(quantumCircuit,backEnd).result()
# Get the count of the result
counts = resultNormal.get_counts()
# Draw the histogram
plot_histogram(counts)