import numpy as np
import qiskit

# Importing standard Qiskit libraries
from qiskit import QuantumCircuit, transpile, Aer, IBMQ, execute
from qiskit.tools.jupyter import *
from qiskit.visualization import *
from ibm_quantum_widgets import *
from qiskit.providers.aer import QasmSimulator

# Loading your IBM Quantum account(s)
provider = IBMQ.load_account()

# Creating a quantum circuit with a single qubit, with default initial state of upspin
quantumCircuit = QuantumCircuit(1)

# Applying Pauli X gate on the qubit
# Quibit index starts with 0, just like in arrays
# This will change the qubit state to downspin
quantumCircuit.x(0)

# Draw the circuit
quantumCircuit.draw()

# backend execution
backEnd = Aer.get_backend('statevector_simulator')
# circuit execution
outPut = execute(quantumCircuit,backEnd).result().get_statevector()
# plot the Bloch spehere visualised result
plot_bloch_multivector(outPut)


# Applying Pauli X gate on the qubit, making it upspin again
quantumCircuit.x(0)
# Drawing the circuit, to verify that the quibit's state is upspin
backEnd = Aer.get_backend('statevector_simulator')
outPut = execute(quantumCircuit,backEnd).result().get_statevector()
plot_bloch_multivector(outPut)