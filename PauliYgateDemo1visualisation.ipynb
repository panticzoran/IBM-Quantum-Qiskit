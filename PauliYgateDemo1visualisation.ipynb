import numpy as np
import qiskit

# Importing standard Qiskit libraries
from qiskit import QuantumCircuit, transpile, Aer, IBMQ, execute
from qiskit.tools.jupyter import *
from qiskit.visualization import *
from ibm_quantum_widgets import *
from qiskit.providers.aer import QasmSimulator

# Loading your IBM Quantum account(s)
provider = IBMQ.load_account()

# Creating a quantum circuit with a single qubit, with default initial state of upspin
quantumCircuit = QuantumCircuit(1)

# Applying Pauli Y gate on the qubit
# Quibit index starts with 0, just like in arrays
# This will change the qubit state
quantumCircuit.y(0)

# Draw the circuit
quantumCircuit.draw()

# backend execution
backEnd = Aer.get_backend('statevector_simulator')
# circuit execution
outPut = execute(quantumCircuit,backEnd).result().get_statevector()
# plot the Bloch spehere visualised result
plot_bloch_multivector(outPut)

# Visualise the output as animation
visualize_transition(quantumCircuit)

# Get result as normal result
resultNormal = execute(quantumCircuit,backEnd).result()
# Get the count of the result
counts = resultNormal.get_counts()
# Draw the histogram
plot_histogram(counts)